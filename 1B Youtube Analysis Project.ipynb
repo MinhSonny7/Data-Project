{
 "cells": [
  {
   "cell_type": "markdown",
   "id": "14417c92",
   "metadata": {},
   "source": [
    "# Project Inspiration\n",
    "Youtube is the most popular online video sharing platform which has tons of interesting videos from millions of artists, content creators.\n",
    "\n",
    "This project simply came from my curiorsity about top trending videos on Youtube to discover any interesting findings based on my analysis. It's just for fun!\n",
    "\n",
    "Let's jump into it!\n",
    "\n",
    "# Questions\n",
    "These are a few questions that I find interesting\n",
    "\n",
    "Top viewed videos. Which artists produce most videos having above 1B views?\n",
    "\n",
    "What is the most popular video category?\n",
    "\n",
    "How is user engagement?\n",
    "\n",
    "What time period that most of these trending videos were published?\n",
    "\n",
    "What time in a day when these videos were commonly released?\n",
    "\n",
    "Any other interesting findings, side story?\n",
    "\n",
    "\n",
    "# Dataset\n",
    "The datasets that I will be using are pulled from Kaggle\n",
    "\n",
    "Name: YouTube music videos w/1B+ views\n",
    "\n",
    "Credit: PRANAV941\n",
    "\n",
    "Source: https://www.kaggle.com/datasets/pranav941/youtubebillion-views-music-videos\n",
    "\n",
    "Format: CSV files"
   ]
  },
  {
   "cell_type": "markdown",
   "id": "6244f6ea",
   "metadata": {},
   "source": [
    "!pip install missingno"
   ]
  },
  {
   "cell_type": "code",
   "execution_count": 1,
   "id": "8ffd29ac",
   "metadata": {},
   "outputs": [],
   "source": [
    "import numpy as np\n",
    "import pandas as pd\n",
    "import matplotlib.pyplot as plt\n",
    "import seaborn as sns\n",
    "import missingno as msno\n",
    "from wordcloud import WordCloud\n",
    "\n",
    "import warnings\n",
    "warnings.filterwarnings('ignore')"
   ]
  },
  {
   "cell_type": "code",
   "execution_count": 2,
   "id": "7c531577",
   "metadata": {},
   "outputs": [],
   "source": [
    "# Import dataset of 1B Youtube videos\n",
    "\n",
    "youtube = pd.read_csv(\"C:\\\\Users\\\\nguye\\\\OneDrive - iPrice Group\\\\Documents\\\\Project Dataset\\\\1B YouTube.csv\",encoding='ISO-8859-1')"
   ]
  },
  {
   "cell_type": "code",
   "execution_count": 3,
   "id": "1e080596",
   "metadata": {},
   "outputs": [
    {
     "data": {
      "text/html": [
       "<div>\n",
       "<style scoped>\n",
       "    .dataframe tbody tr th:only-of-type {\n",
       "        vertical-align: middle;\n",
       "    }\n",
       "\n",
       "    .dataframe tbody tr th {\n",
       "        vertical-align: top;\n",
       "    }\n",
       "\n",
       "    .dataframe thead th {\n",
       "        text-align: right;\n",
       "    }\n",
       "</style>\n",
       "<table border=\"1\" class=\"dataframe\">\n",
       "  <thead>\n",
       "    <tr style=\"text-align: right;\">\n",
       "      <th></th>\n",
       "      <th>Column1</th>\n",
       "      <th>thumbnailUrl</th>\n",
       "      <th>published_date</th>\n",
       "      <th>published_hour</th>\n",
       "      <th>channel_name</th>\n",
       "      <th>channel_id</th>\n",
       "      <th>video_id</th>\n",
       "      <th>video_url</th>\n",
       "      <th>video_tags</th>\n",
       "      <th>cat_id</th>\n",
       "      <th>defaultAudioLanguage</th>\n",
       "      <th>views</th>\n",
       "      <th>likes</th>\n",
       "      <th>comments</th>\n",
       "      <th>Minutes</th>\n",
       "      <th>video_duration</th>\n",
       "      <th>featuring</th>\n",
       "      <th>artist</th>\n",
       "      <th>tittle</th>\n",
       "    </tr>\n",
       "  </thead>\n",
       "  <tbody>\n",
       "    <tr>\n",
       "      <th>0</th>\n",
       "      <td>0</td>\n",
       "      <td>https://i.ytimg.com/vi/gdZLi9oWNZg/default.jpg</td>\n",
       "      <td>21/8/2020</td>\n",
       "      <td>3:58</td>\n",
       "      <td>HYBE LABELS</td>\n",
       "      <td>UC3IZKseVpdzPSBaWxBxundA</td>\n",
       "      <td>gdZLi9oWNZg</td>\n",
       "      <td>https://www.youtube.com/watch?v=gdZLi9oWNZg</td>\n",
       "      <td>BIGHIT,???,?????,BTS,BANGTAN,??</td>\n",
       "      <td>10</td>\n",
       "      <td>en</td>\n",
       "      <td>1521861575</td>\n",
       "      <td>34506115</td>\n",
       "      <td>16039232</td>\n",
       "      <td>3.73</td>\n",
       "      <td>224</td>\n",
       "      <td>NaN</td>\n",
       "      <td>BTS</td>\n",
       "      <td>Dynamite</td>\n",
       "    </tr>\n",
       "    <tr>\n",
       "      <th>1</th>\n",
       "      <td>1</td>\n",
       "      <td>https://i.ytimg.com/vi/CZt-rVn2BJs/default.jpg</td>\n",
       "      <td>2/10/2020</td>\n",
       "      <td>5:30</td>\n",
       "      <td>Desi Records</td>\n",
       "      <td>UC36Ah1MtcBPjwP1RXEDXOZA</td>\n",
       "      <td>CZt-rVn2BJs</td>\n",
       "      <td>https://www.youtube.com/watch?v=CZt-rVn2BJs</td>\n",
       "      <td>52 gaj ka daman,52 Gaj Pranjal Dahiya,Pranjal ...</td>\n",
       "      <td>10</td>\n",
       "      <td>hi</td>\n",
       "      <td>1423488438</td>\n",
       "      <td>6991068</td>\n",
       "      <td>145845</td>\n",
       "      <td>3.18</td>\n",
       "      <td>191</td>\n",
       "      <td>NaN</td>\n",
       "      <td>PRANJAL DAHIYA,AMAN JAJI,RENUKA PANWAR,MUKESH ...</td>\n",
       "      <td>52 GAJ KA DAMAN</td>\n",
       "    </tr>\n",
       "    <tr>\n",
       "      <th>2</th>\n",
       "      <td>2</td>\n",
       "      <td>https://i.ytimg.com/vi/VuNIsY6JdUw/default.jpg</td>\n",
       "      <td>16/6/2009</td>\n",
       "      <td>22:02</td>\n",
       "      <td>TaylorSwiftVEVO</td>\n",
       "      <td>UCANLZYMidaCbLQFWXBC95Jg</td>\n",
       "      <td>VuNIsY6JdUw</td>\n",
       "      <td>https://www.youtube.com/watch?v=VuNIsY6JdUw</td>\n",
       "      <td>Taylor,Swift,Big,Machine,Records,LLC,Country</td>\n",
       "      <td>10</td>\n",
       "      <td>en-US</td>\n",
       "      <td>1331652258</td>\n",
       "      <td>8576951</td>\n",
       "      <td>417058</td>\n",
       "      <td>3.82</td>\n",
       "      <td>229</td>\n",
       "      <td>NaN</td>\n",
       "      <td>Taylor Swift</td>\n",
       "      <td>You Belong With Me</td>\n",
       "    </tr>\n",
       "    <tr>\n",
       "      <th>3</th>\n",
       "      <td>3</td>\n",
       "      <td>https://i.ytimg.com/vi/msSc7Mv0QHY/default.jpg</td>\n",
       "      <td>6/11/2013</td>\n",
       "      <td>16:52</td>\n",
       "      <td>J. Geco</td>\n",
       "      <td>UCpIMOJmLiDq8ikUzrjezMIA</td>\n",
       "      <td>msSc7Mv0QHY</td>\n",
       "      <td>https://www.youtube.com/watch?v=msSc7Mv0QHY</td>\n",
       "      <td>Chicken,song,dance,remix,dubstep,techno,house,...</td>\n",
       "      <td>10</td>\n",
       "      <td>it</td>\n",
       "      <td>1304781302</td>\n",
       "      <td>6937450</td>\n",
       "      <td>209575</td>\n",
       "      <td>2.52</td>\n",
       "      <td>151</td>\n",
       "      <td>NaN</td>\n",
       "      <td>J.Geco</td>\n",
       "      <td>Chicken Song</td>\n",
       "    </tr>\n",
       "    <tr>\n",
       "      <th>4</th>\n",
       "      <td>4</td>\n",
       "      <td>https://i.ytimg.com/vi/dQw4w9WgXcQ/default.jpg</td>\n",
       "      <td>25/10/2009</td>\n",
       "      <td>6:57</td>\n",
       "      <td>Rick Astley</td>\n",
       "      <td>UCuAXFkgsw1L7xaCfnd5JJOw</td>\n",
       "      <td>dQw4w9WgXcQ</td>\n",
       "      <td>https://www.youtube.com/watch?v=dQw4w9WgXcQ</td>\n",
       "      <td>rick astley,Never Gonna Give You Up,nggyu,neve...</td>\n",
       "      <td>10</td>\n",
       "      <td>en</td>\n",
       "      <td>1249126991</td>\n",
       "      <td>14796530</td>\n",
       "      <td>2187460</td>\n",
       "      <td>3.55</td>\n",
       "      <td>213</td>\n",
       "      <td>NaN</td>\n",
       "      <td>Rick Astley</td>\n",
       "      <td>Never Gonna Give You Up</td>\n",
       "    </tr>\n",
       "  </tbody>\n",
       "</table>\n",
       "</div>"
      ],
      "text/plain": [
       "   Column1                                    thumbnailUrl published_date  \\\n",
       "0        0  https://i.ytimg.com/vi/gdZLi9oWNZg/default.jpg      21/8/2020   \n",
       "1        1  https://i.ytimg.com/vi/CZt-rVn2BJs/default.jpg      2/10/2020   \n",
       "2        2  https://i.ytimg.com/vi/VuNIsY6JdUw/default.jpg      16/6/2009   \n",
       "3        3  https://i.ytimg.com/vi/msSc7Mv0QHY/default.jpg      6/11/2013   \n",
       "4        4  https://i.ytimg.com/vi/dQw4w9WgXcQ/default.jpg     25/10/2009   \n",
       "\n",
       "  published_hour     channel_name                channel_id     video_id  \\\n",
       "0           3:58      HYBE LABELS  UC3IZKseVpdzPSBaWxBxundA  gdZLi9oWNZg   \n",
       "1           5:30     Desi Records  UC36Ah1MtcBPjwP1RXEDXOZA  CZt-rVn2BJs   \n",
       "2          22:02  TaylorSwiftVEVO  UCANLZYMidaCbLQFWXBC95Jg  VuNIsY6JdUw   \n",
       "3          16:52          J. Geco  UCpIMOJmLiDq8ikUzrjezMIA  msSc7Mv0QHY   \n",
       "4           6:57      Rick Astley  UCuAXFkgsw1L7xaCfnd5JJOw  dQw4w9WgXcQ   \n",
       "\n",
       "                                     video_url  \\\n",
       "0  https://www.youtube.com/watch?v=gdZLi9oWNZg   \n",
       "1  https://www.youtube.com/watch?v=CZt-rVn2BJs   \n",
       "2  https://www.youtube.com/watch?v=VuNIsY6JdUw   \n",
       "3  https://www.youtube.com/watch?v=msSc7Mv0QHY   \n",
       "4  https://www.youtube.com/watch?v=dQw4w9WgXcQ   \n",
       "\n",
       "                                          video_tags  cat_id  \\\n",
       "0                    BIGHIT,???,?????,BTS,BANGTAN,??      10   \n",
       "1  52 gaj ka daman,52 Gaj Pranjal Dahiya,Pranjal ...      10   \n",
       "2       Taylor,Swift,Big,Machine,Records,LLC,Country      10   \n",
       "3  Chicken,song,dance,remix,dubstep,techno,house,...      10   \n",
       "4  rick astley,Never Gonna Give You Up,nggyu,neve...      10   \n",
       "\n",
       "  defaultAudioLanguage       views     likes  comments  Minutes  \\\n",
       "0                   en  1521861575  34506115  16039232     3.73   \n",
       "1                   hi  1423488438   6991068    145845     3.18   \n",
       "2                en-US  1331652258   8576951    417058     3.82   \n",
       "3                   it  1304781302   6937450    209575     2.52   \n",
       "4                   en  1249126991  14796530   2187460     3.55   \n",
       "\n",
       "   video_duration featuring  \\\n",
       "0             224       NaN   \n",
       "1             191       NaN   \n",
       "2             229       NaN   \n",
       "3             151       NaN   \n",
       "4             213       NaN   \n",
       "\n",
       "                                              artist                   tittle  \n",
       "0                                                BTS                 Dynamite  \n",
       "1  PRANJAL DAHIYA,AMAN JAJI,RENUKA PANWAR,MUKESH ...         52 GAJ KA DAMAN   \n",
       "2                                       Taylor Swift       You Belong With Me  \n",
       "3                                             J.Geco             Chicken Song  \n",
       "4                                        Rick Astley  Never Gonna Give You Up  "
      ]
     },
     "execution_count": 3,
     "metadata": {},
     "output_type": "execute_result"
    }
   ],
   "source": [
    "youtube.head()"
   ]
  },
  {
   "cell_type": "code",
   "execution_count": 4,
   "id": "a35038eb",
   "metadata": {},
   "outputs": [
    {
     "data": {
      "text/plain": [
       "Index(['Column1', 'thumbnailUrl', 'published_date', 'published_hour',\n",
       "       'channel_name', 'channel_id', 'video_id', 'video_url', 'video_tags',\n",
       "       'cat_id', 'defaultAudioLanguage', 'views', 'likes', 'comments',\n",
       "       'Minutes', 'video_duration', 'featuring', 'artist', 'tittle'],\n",
       "      dtype='object')"
      ]
     },
     "execution_count": 4,
     "metadata": {},
     "output_type": "execute_result"
    }
   ],
   "source": [
    "youtube.columns"
   ]
  },
  {
   "cell_type": "code",
   "execution_count": 5,
   "id": "08de914d",
   "metadata": {},
   "outputs": [],
   "source": [
    "# Drop unneccessary columns\n",
    "\n",
    "youtube = youtube.drop(['Column1','thumbnailUrl','channel_id',\n",
    "       'video_id', 'video_url'], axis=1)"
   ]
  },
  {
   "cell_type": "code",
   "execution_count": 6,
   "id": "72539af6",
   "metadata": {},
   "outputs": [
    {
     "data": {
      "text/plain": [
       "Index(['published_date', 'published_hour', 'channel_name', 'video_tags',\n",
       "       'cat_id', 'defaultAudioLanguage', 'views', 'likes', 'comments',\n",
       "       'Minutes', 'video_duration', 'featuring', 'artist', 'tittle'],\n",
       "      dtype='object')"
      ]
     },
     "execution_count": 6,
     "metadata": {},
     "output_type": "execute_result"
    }
   ],
   "source": [
    "youtube.columns"
   ]
  },
  {
   "cell_type": "markdown",
   "id": "e459b81e",
   "metadata": {},
   "source": [
    "# Cleaning process\n",
    "- Inspect dataset by visualization using missingno module.\n",
    "\n",
    "Observation:\n",
    "\n",
    "- 2 rows mixed up between 'Artist' & 'Title', then split it.\n",
    "- Those videos have 0 comments due to the comment function being disabled, all 3 cartoon videos are from Disney."
   ]
  },
  {
   "cell_type": "code",
   "execution_count": 7,
   "id": "cd84138b",
   "metadata": {},
   "outputs": [
    {
     "data": {
      "text/plain": [
       "<AxesSubplot:>"
      ]
     },
     "execution_count": 7,
     "metadata": {},
     "output_type": "execute_result"
    },
    {
     "data": {
      "image/png": "[encoded data removed]",
      "text/plain": [
       "<Figure size 1800x720 with 2 Axes>"
      ]
     },
     "metadata": {
      "needs_background": "light"
     },
     "output_type": "display_data"
    }
   ],
   "source": [
    "# Inspect dataset quality\n",
    "\n",
    "msno.matrix(youtube)"
   ]
  },
  {
   "cell_type": "code",
   "execution_count": 8,
   "id": "14ee14f1",
   "metadata": {},
   "outputs": [
    {
     "name": "stdout",
     "output_type": "stream",
     "text": [
      "<class 'pandas.core.frame.DataFrame'>\n",
      "RangeIndex: 294 entries, 0 to 293\n",
      "Data columns (total 14 columns):\n",
      " #   Column                Non-Null Count  Dtype  \n",
      "---  ------                --------------  -----  \n",
      " 0   published_date        294 non-null    object \n",
      " 1   published_hour        294 non-null    object \n",
      " 2   channel_name          294 non-null    object \n",
      " 3   video_tags            294 non-null    object \n",
      " 4   cat_id                294 non-null    int64  \n",
      " 5   defaultAudioLanguage  294 non-null    object \n",
      " 6   views                 294 non-null    int64  \n",
      " 7   likes                 294 non-null    int64  \n",
      " 8   comments              294 non-null    int64  \n",
      " 9   Minutes               294 non-null    float64\n",
      " 10  video_duration        294 non-null    int64  \n",
      " 11  featuring             92 non-null     object \n",
      " 12  artist                294 non-null    object \n",
      " 13  tittle                294 non-null    object \n",
      "dtypes: float64(1), int64(5), object(8)\n",
      "memory usage: 32.3+ KB\n"
     ]
    }
   ],
   "source": [
    "youtube.info()"
   ]
  },
  {
   "cell_type": "code",
   "execution_count": 9,
   "id": "3b4bff95",
   "metadata": {},
   "outputs": [
    {
     "data": {
      "text/html": [
       "<div>\n",
       "<style scoped>\n",
       "    .dataframe tbody tr th:only-of-type {\n",
       "        vertical-align: middle;\n",
       "    }\n",
       "\n",
       "    .dataframe tbody tr th {\n",
       "        vertical-align: top;\n",
       "    }\n",
       "\n",
       "    .dataframe thead th {\n",
       "        text-align: right;\n",
       "    }\n",
       "</style>\n",
       "<table border=\"1\" class=\"dataframe\">\n",
       "  <thead>\n",
       "    <tr style=\"text-align: right;\">\n",
       "      <th></th>\n",
       "      <th>tittle</th>\n",
       "      <th>artist</th>\n",
       "      <th>views</th>\n",
       "    </tr>\n",
       "  </thead>\n",
       "  <tbody>\n",
       "    <tr>\n",
       "      <th>208</th>\n",
       "      <td>Despacito</td>\n",
       "      <td>Luis Fonsi</td>\n",
       "      <td>7905249684</td>\n",
       "    </tr>\n",
       "    <tr>\n",
       "      <th>212</th>\n",
       "      <td>Shape of You</td>\n",
       "      <td>Ed Sheeran</td>\n",
       "      <td>5762568227</td>\n",
       "    </tr>\n",
       "    <tr>\n",
       "      <th>167</th>\n",
       "      <td>See You Again</td>\n",
       "      <td>Wiz Khalifa</td>\n",
       "      <td>5569210905</td>\n",
       "    </tr>\n",
       "    <tr>\n",
       "      <th>166</th>\n",
       "      <td>Uptown Funk</td>\n",
       "      <td>Mark Ronson</td>\n",
       "      <td>4626830580</td>\n",
       "    </tr>\n",
       "    <tr>\n",
       "      <th>158</th>\n",
       "      <td>GANGNAM STYLE(?????) M/V</td>\n",
       "      <td>PSY</td>\n",
       "      <td>4479519944</td>\n",
       "    </tr>\n",
       "    <tr>\n",
       "      <th>174</th>\n",
       "      <td>Sugar</td>\n",
       "      <td>Maroon 5</td>\n",
       "      <td>3724875772</td>\n",
       "    </tr>\n",
       "    <tr>\n",
       "      <th>162</th>\n",
       "      <td>Roar</td>\n",
       "      <td>Katy Perry</td>\n",
       "      <td>3614951058</td>\n",
       "    </tr>\n",
       "    <tr>\n",
       "      <th>168</th>\n",
       "      <td>Counting Stars</td>\n",
       "      <td>OneRepublic</td>\n",
       "      <td>3606027843</td>\n",
       "    </tr>\n",
       "    <tr>\n",
       "      <th>178</th>\n",
       "      <td>Sorry (PURPOSE : The Movement)</td>\n",
       "      <td>Justin Bieber</td>\n",
       "      <td>3563187029</td>\n",
       "    </tr>\n",
       "    <tr>\n",
       "      <th>177</th>\n",
       "      <td>Thinking Out Loud</td>\n",
       "      <td>Ed Sheeran</td>\n",
       "      <td>3470399438</td>\n",
       "    </tr>\n",
       "  </tbody>\n",
       "</table>\n",
       "</div>"
      ],
      "text/plain": [
       "                             tittle         artist       views\n",
       "208                       Despacito     Luis Fonsi  7905249684\n",
       "212                    Shape of You     Ed Sheeran  5762568227\n",
       "167                   See You Again    Wiz Khalifa  5569210905\n",
       "166                     Uptown Funk    Mark Ronson  4626830580\n",
       "158        GANGNAM STYLE(?????) M/V            PSY  4479519944\n",
       "174                           Sugar       Maroon 5  3724875772\n",
       "162                            Roar     Katy Perry  3614951058\n",
       "168                  Counting Stars    OneRepublic  3606027843\n",
       "178  Sorry (PURPOSE : The Movement)  Justin Bieber  3563187029\n",
       "177               Thinking Out Loud     Ed Sheeran  3470399438"
      ]
     },
     "execution_count": 9,
     "metadata": {},
     "output_type": "execute_result"
    }
   ],
   "source": [
    "# Top 10 videos have the most views\n",
    "top_videos = youtube[['tittle','artist','views']].nlargest(n=10, columns = 'views')\n",
    "top_videos"
   ]
  },
  {
   "cell_type": "markdown",
   "id": "ecbf570a",
   "metadata": {},
   "source": [
    "As expected, Despacito (by Luis Fonsi) is the most viewed video until now with almost 8 billions views. That's crazy!"
   ]
  },
  {
   "cell_type": "code",
   "execution_count": 10,
   "id": "fb1ba043",
   "metadata": {},
   "outputs": [
    {
     "data": {
      "text/plain": [
       "<AxesSubplot:>"
      ]
     },
     "execution_count": 10,
     "metadata": {},
     "output_type": "execute_result"
    },
    {
     "data": {
      "image/png": "[encoded data removed]",
      "text/plain": [
       "<Figure size 864x432 with 1 Axes>"
      ]
     },
     "metadata": {
      "needs_background": "light"
     },
     "output_type": "display_data"
    }
   ],
   "source": [
    "# Top 10 artists have most videos with more than 1B views\n",
    "top_artists = youtube['artist'].value_counts().nlargest(10).plot(kind='bar', figsize=(12,6), color=sns.color_palette(\"viridis\"))\n",
    "top_artists"
   ]
  },
  {
   "cell_type": "markdown",
   "id": "03921a41",
   "metadata": {},
   "source": [
    "Among all popular artists like BST, Bruno Mars ... it turns out Maluma who I never listened to before is super famous. And it's funny that he is my girlfriend's favorite artist now after I showed her my finding because she also didn't know about him previously."
   ]
  },
  {
   "cell_type": "code",
   "execution_count": 11,
   "id": "58276b53",
   "metadata": {},
   "outputs": [
    {
     "data": {
      "text/html": [
       "<div>\n",
       "<style scoped>\n",
       "    .dataframe tbody tr th:only-of-type {\n",
       "        vertical-align: middle;\n",
       "    }\n",
       "\n",
       "    .dataframe tbody tr th {\n",
       "        vertical-align: top;\n",
       "    }\n",
       "\n",
       "    .dataframe thead th {\n",
       "        text-align: right;\n",
       "    }\n",
       "</style>\n",
       "<table border=\"1\" class=\"dataframe\">\n",
       "  <thead>\n",
       "    <tr style=\"text-align: right;\">\n",
       "      <th></th>\n",
       "      <th>published_date</th>\n",
       "      <th>published_hour</th>\n",
       "      <th>channel_name</th>\n",
       "      <th>video_tags</th>\n",
       "      <th>cat_id</th>\n",
       "      <th>defaultAudioLanguage</th>\n",
       "      <th>views</th>\n",
       "      <th>likes</th>\n",
       "      <th>comments</th>\n",
       "      <th>Minutes</th>\n",
       "      <th>video_duration</th>\n",
       "      <th>featuring</th>\n",
       "      <th>artist</th>\n",
       "      <th>tittle</th>\n",
       "      <th>id</th>\n",
       "      <th>category_name</th>\n",
       "    </tr>\n",
       "  </thead>\n",
       "  <tbody>\n",
       "    <tr>\n",
       "      <th>0</th>\n",
       "      <td>21/8/2020</td>\n",
       "      <td>3:58</td>\n",
       "      <td>HYBE LABELS</td>\n",
       "      <td>BIGHIT,???,?????,BTS,BANGTAN,??</td>\n",
       "      <td>10</td>\n",
       "      <td>en</td>\n",
       "      <td>1521861575</td>\n",
       "      <td>34506115</td>\n",
       "      <td>16039232</td>\n",
       "      <td>3.73</td>\n",
       "      <td>224</td>\n",
       "      <td>NaN</td>\n",
       "      <td>BTS</td>\n",
       "      <td>Dynamite</td>\n",
       "      <td>10</td>\n",
       "      <td>Music</td>\n",
       "    </tr>\n",
       "    <tr>\n",
       "      <th>1</th>\n",
       "      <td>2/10/2020</td>\n",
       "      <td>5:30</td>\n",
       "      <td>Desi Records</td>\n",
       "      <td>52 gaj ka daman,52 Gaj Pranjal Dahiya,Pranjal ...</td>\n",
       "      <td>10</td>\n",
       "      <td>hi</td>\n",
       "      <td>1423488438</td>\n",
       "      <td>6991068</td>\n",
       "      <td>145845</td>\n",
       "      <td>3.18</td>\n",
       "      <td>191</td>\n",
       "      <td>NaN</td>\n",
       "      <td>PRANJAL DAHIYA,AMAN JAJI,RENUKA PANWAR,MUKESH ...</td>\n",
       "      <td>52 GAJ KA DAMAN</td>\n",
       "      <td>10</td>\n",
       "      <td>Music</td>\n",
       "    </tr>\n",
       "    <tr>\n",
       "      <th>2</th>\n",
       "      <td>16/6/2009</td>\n",
       "      <td>22:02</td>\n",
       "      <td>TaylorSwiftVEVO</td>\n",
       "      <td>Taylor,Swift,Big,Machine,Records,LLC,Country</td>\n",
       "      <td>10</td>\n",
       "      <td>en-US</td>\n",
       "      <td>1331652258</td>\n",
       "      <td>8576951</td>\n",
       "      <td>417058</td>\n",
       "      <td>3.82</td>\n",
       "      <td>229</td>\n",
       "      <td>NaN</td>\n",
       "      <td>Taylor Swift</td>\n",
       "      <td>You Belong With Me</td>\n",
       "      <td>10</td>\n",
       "      <td>Music</td>\n",
       "    </tr>\n",
       "    <tr>\n",
       "      <th>3</th>\n",
       "      <td>6/11/2013</td>\n",
       "      <td>16:52</td>\n",
       "      <td>J. Geco</td>\n",
       "      <td>Chicken,song,dance,remix,dubstep,techno,house,...</td>\n",
       "      <td>10</td>\n",
       "      <td>it</td>\n",
       "      <td>1304781302</td>\n",
       "      <td>6937450</td>\n",
       "      <td>209575</td>\n",
       "      <td>2.52</td>\n",
       "      <td>151</td>\n",
       "      <td>NaN</td>\n",
       "      <td>J.Geco</td>\n",
       "      <td>Chicken Song</td>\n",
       "      <td>10</td>\n",
       "      <td>Music</td>\n",
       "    </tr>\n",
       "    <tr>\n",
       "      <th>4</th>\n",
       "      <td>25/10/2009</td>\n",
       "      <td>6:57</td>\n",
       "      <td>Rick Astley</td>\n",
       "      <td>rick astley,Never Gonna Give You Up,nggyu,neve...</td>\n",
       "      <td>10</td>\n",
       "      <td>en</td>\n",
       "      <td>1249126991</td>\n",
       "      <td>14796530</td>\n",
       "      <td>2187460</td>\n",
       "      <td>3.55</td>\n",
       "      <td>213</td>\n",
       "      <td>NaN</td>\n",
       "      <td>Rick Astley</td>\n",
       "      <td>Never Gonna Give You Up</td>\n",
       "      <td>10</td>\n",
       "      <td>Music</td>\n",
       "    </tr>\n",
       "  </tbody>\n",
       "</table>\n",
       "</div>"
      ],
      "text/plain": [
       "  published_date published_hour     channel_name  \\\n",
       "0      21/8/2020           3:58      HYBE LABELS   \n",
       "1      2/10/2020           5:30     Desi Records   \n",
       "2      16/6/2009          22:02  TaylorSwiftVEVO   \n",
       "3      6/11/2013          16:52          J. Geco   \n",
       "4     25/10/2009           6:57      Rick Astley   \n",
       "\n",
       "                                          video_tags  cat_id  \\\n",
       "0                    BIGHIT,???,?????,BTS,BANGTAN,??      10   \n",
       "1  52 gaj ka daman,52 Gaj Pranjal Dahiya,Pranjal ...      10   \n",
       "2       Taylor,Swift,Big,Machine,Records,LLC,Country      10   \n",
       "3  Chicken,song,dance,remix,dubstep,techno,house,...      10   \n",
       "4  rick astley,Never Gonna Give You Up,nggyu,neve...      10   \n",
       "\n",
       "  defaultAudioLanguage       views     likes  comments  Minutes  \\\n",
       "0                   en  1521861575  34506115  16039232     3.73   \n",
       "1                   hi  1423488438   6991068    145845     3.18   \n",
       "2                en-US  1331652258   8576951    417058     3.82   \n",
       "3                   it  1304781302   6937450    209575     2.52   \n",
       "4                   en  1249126991  14796530   2187460     3.55   \n",
       "\n",
       "   video_duration featuring  \\\n",
       "0             224       NaN   \n",
       "1             191       NaN   \n",
       "2             229       NaN   \n",
       "3             151       NaN   \n",
       "4             213       NaN   \n",
       "\n",
       "                                              artist                   tittle  \\\n",
       "0                                                BTS                 Dynamite   \n",
       "1  PRANJAL DAHIYA,AMAN JAJI,RENUKA PANWAR,MUKESH ...         52 GAJ KA DAMAN    \n",
       "2                                       Taylor Swift       You Belong With Me   \n",
       "3                                             J.Geco             Chicken Song   \n",
       "4                                        Rick Astley  Never Gonna Give You Up   \n",
       "\n",
       "   id category_name  \n",
       "0  10         Music  \n",
       "1  10         Music  \n",
       "2  10         Music  \n",
       "3  10         Music  \n",
       "4  10         Music  "
      ]
     },
     "execution_count": 11,
     "metadata": {},
     "output_type": "execute_result"
    }
   ],
   "source": [
    "# Join 1B Youtube data with Category file\n",
    "category = pd.read_csv(\"C:\\\\Users\\\\nguye\\\\OneDrive - iPrice Group\\\\Documents\\\\Project Dataset\\\\categories.csv\", encoding='ISO-8859-1')\n",
    "\n",
    "youtube_cat = youtube.merge(category, left_on='cat_id', right_on='id',how = 'left')\n",
    "youtube_cat.head()"
   ]
  },
  {
   "cell_type": "code",
   "execution_count": 12,
   "id": "0b8ceb29",
   "metadata": {},
   "outputs": [
    {
     "data": {
      "text/plain": [
       "<AxesSubplot:>"
      ]
     },
     "execution_count": 12,
     "metadata": {},
     "output_type": "execute_result"
    },
    {
     "data": {
      "image/png": "[encoded data removed]",
      "text/plain": [
       "<Figure size 864x432 with 1 Axes>"
      ]
     },
     "metadata": {
      "needs_background": "light"
     },
     "output_type": "display_data"
    }
   ],
   "source": [
    "# Most popular video category\n",
    "top_categories = youtube_cat['category_name'].value_counts().nlargest(10).plot(kind='bar', figsize=(12,6), color=sns.color_palette(\"viridis\"))\n",
    "top_categories"
   ]
  },
  {
   "cell_type": "markdown",
   "id": "b2cf3ae6",
   "metadata": {},
   "source": [
    "No doubt that \"Music\" is the most common category since most viewed videos are mainly music MV. But interestingly there are a few videos tagged under other categories like People & Blogs, Entertainment ... also gained huge attention from the audiences. Let's find out what these videos are."
   ]
  },
  {
   "cell_type": "code",
   "execution_count": 13,
   "id": "82892539",
   "metadata": {},
   "outputs": [
    {
     "data": {
      "text/html": [
       "<div>\n",
       "<style scoped>\n",
       "    .dataframe tbody tr th:only-of-type {\n",
       "        vertical-align: middle;\n",
       "    }\n",
       "\n",
       "    .dataframe tbody tr th {\n",
       "        vertical-align: top;\n",
       "    }\n",
       "\n",
       "    .dataframe thead th {\n",
       "        text-align: right;\n",
       "    }\n",
       "</style>\n",
       "<table border=\"1\" class=\"dataframe\">\n",
       "  <thead>\n",
       "    <tr style=\"text-align: right;\">\n",
       "      <th></th>\n",
       "      <th>tittle</th>\n",
       "      <th>category_name</th>\n",
       "      <th>views</th>\n",
       "    </tr>\n",
       "  </thead>\n",
       "  <tbody>\n",
       "    <tr>\n",
       "      <th>10</th>\n",
       "      <td>????? (AS IF IT'S YOUR LAST)' M/V</td>\n",
       "      <td>People &amp; Blogs</td>\n",
       "      <td>1186495421</td>\n",
       "    </tr>\n",
       "    <tr>\n",
       "      <th>40</th>\n",
       "      <td>The Fox (What Does The Fox Say?)</td>\n",
       "      <td>Entertainment</td>\n",
       "      <td>1071527995</td>\n",
       "    </tr>\n",
       "    <tr>\n",
       "      <th>48</th>\n",
       "      <td>Bodak Yellow</td>\n",
       "      <td>People &amp; Blogs</td>\n",
       "      <td>1055675097</td>\n",
       "    </tr>\n",
       "    <tr>\n",
       "      <th>131</th>\n",
       "      <td>??? (BOOMBAYAH)' M/V</td>\n",
       "      <td>People &amp; Blogs</td>\n",
       "      <td>1441994701</td>\n",
       "    </tr>\n",
       "    <tr>\n",
       "      <th>202</th>\n",
       "      <td>along | Official Disney UK</td>\n",
       "      <td>Film &amp; Animation</td>\n",
       "      <td>2896308798</td>\n",
       "    </tr>\n",
       "    <tr>\n",
       "      <th>221</th>\n",
       "      <td>Shaky Shaky</td>\n",
       "      <td>Autos &amp; Vehicles</td>\n",
       "      <td>1627824082</td>\n",
       "    </tr>\n",
       "    <tr>\n",
       "      <th>241</th>\n",
       "      <td>Where Are Ü Now</td>\n",
       "      <td>People &amp; Blogs</td>\n",
       "      <td>1217447014</td>\n",
       "    </tr>\n",
       "  </tbody>\n",
       "</table>\n",
       "</div>"
      ],
      "text/plain": [
       "                                tittle     category_name       views\n",
       "10   ????? (AS IF IT'S YOUR LAST)' M/V    People & Blogs  1186495421\n",
       "40    The Fox (What Does The Fox Say?)     Entertainment  1071527995\n",
       "48                        Bodak Yellow    People & Blogs  1055675097\n",
       "131               ??? (BOOMBAYAH)' M/V    People & Blogs  1441994701\n",
       "202         along | Official Disney UK  Film & Animation  2896308798\n",
       "221                        Shaky Shaky  Autos & Vehicles  1627824082\n",
       "241                    Where Are Ü Now    People & Blogs  1217447014"
      ]
     },
     "execution_count": 13,
     "metadata": {},
     "output_type": "execute_result"
    }
   ],
   "source": [
    "# Videos aren't tagged under \"Music\"\n",
    "not_music = youtube_cat[youtube_cat['category_name'] != \"Music\"]\n",
    "not_music.loc[:, [\"tittle\",\"category_name\",\"views\"]]"
   ]
  },
  {
   "cell_type": "markdown",
   "id": "c750e896",
   "metadata": {},
   "source": [
    "It turns out these videos above were wrongly tagged under incorrect categories, except \"FROZEN | Let It Go Sing-along | Official Disney UK\" is categorized under Film & Animation which makes sense."
   ]
  },
  {
   "cell_type": "code",
   "execution_count": 14,
   "id": "00fb3b43",
   "metadata": {},
   "outputs": [
    {
     "data": {
      "image/png": "[encoded data removed]",
      "text/plain": [
       "<Figure size 432x288 with 1 Axes>"
      ]
     },
     "metadata": {},
     "output_type": "display_data"
    }
   ],
   "source": [
    "# Percentage of likes\n",
    "total_likes = youtube['likes'].sum()\n",
    "total_not_likes = youtube['views'].sum() - youtube['likes'].sum()\n",
    "data1 = [total_likes, total_not_likes]\n",
    "labels = ['Like', 'Not Like']\n",
    "color = sns.color_palette('rocket')\n",
    "plt.pie(data1, labels = labels, colors = color, autopct = '%.0f%%')\n",
    "plt.show()"
   ]
  },
  {
   "cell_type": "code",
   "execution_count": 15,
   "id": "d6b554c1",
   "metadata": {},
   "outputs": [
    {
     "data": {
      "image/png": "[encoded data removed]",
      "text/plain": [
       "<Figure size 432x288 with 1 Axes>"
      ]
     },
     "metadata": {},
     "output_type": "display_data"
    }
   ],
   "source": [
    "# Percentage of comments\n",
    "total_comments = youtube['comments'].sum()\n",
    "total_not_comments = youtube['views'].sum() - youtube['comments'].sum()\n",
    "data = [total_comments, total_not_comments]\n",
    "labels = ['Comment', 'Not comment']\n",
    "color = sns.color_palette('viridis')\n",
    "plt.pie(data, labels = labels, colors = color, autopct = '%.0f%%')\n",
    "plt.show()"
   ]
  },
  {
   "cell_type": "code",
   "execution_count": 16,
   "id": "58851396",
   "metadata": {},
   "outputs": [
    {
     "name": "stdout",
     "output_type": "stream",
     "text": [
      "2740986343\n",
      "168877547\n",
      "0.06161196221618679\n"
     ]
    }
   ],
   "source": [
    "print(total_likes)\n",
    "print(total_comments)\n",
    "print(total_comments/total_likes)"
   ]
  },
  {
   "cell_type": "markdown",
   "id": "7f92554d",
   "metadata": {},
   "source": [
    "It seems most people tend to watch only without reacting to the videos. Or they may like/comment but tend to watch multiple times.\n",
    "\n",
    "Out of those videos have \"like\" reaction, only 6% of them have user comments."
   ]
  },
  {
   "cell_type": "code",
   "execution_count": 17,
   "id": "472fee7a",
   "metadata": {},
   "outputs": [
    {
     "data": {
      "text/plain": [
       "4.16"
      ]
     },
     "execution_count": 17,
     "metadata": {},
     "output_type": "execute_result"
    }
   ],
   "source": [
    "# Average time duration\n",
    "avg_duration_by_mins = round(youtube['video_duration'].mean()/60,2)\n",
    "avg_duration_by_mins"
   ]
  },
  {
   "cell_type": "code",
   "execution_count": 18,
   "id": "26c01a00",
   "metadata": {},
   "outputs": [
    {
     "data": {
      "text/plain": [
       "0    2020\n",
       "1    2020\n",
       "2    2009\n",
       "3    2013\n",
       "4    2009\n",
       "Name: year, dtype: int64"
      ]
     },
     "execution_count": 18,
     "metadata": {},
     "output_type": "execute_result"
    }
   ],
   "source": [
    "# Covert time into year format\n",
    "import datetime\n",
    "youtube['published_date'] = pd.to_datetime(youtube['published_date'])\n",
    "youtube['year'] = youtube['published_date'].dt.year\n",
    "youtube['year'].head()"
   ]
  },
  {
   "cell_type": "code",
   "execution_count": 19,
   "id": "df2a5a5c",
   "metadata": {},
   "outputs": [
    {
     "data": {
      "image/png": "[encoded data removed]",
      "text/plain": [
       "<Figure size 432x288 with 1 Axes>"
      ]
     },
     "metadata": {
      "needs_background": "light"
     },
     "output_type": "display_data"
    }
   ],
   "source": [
    "# 1B videos published by year\n",
    "vid_by_year = pd.DataFrame(youtube.groupby('year').size())\n",
    "plt.plot(vid_by_year)\n",
    "plt.show()"
   ]
  },
  {
   "cell_type": "markdown",
   "id": "cbff0855",
   "metadata": {},
   "source": [
    "It was an explosion of top-view videos produced in 2017. But this trend seems decline afterwards. Let's find out the reason."
   ]
  },
  {
   "cell_type": "code",
   "execution_count": 20,
   "id": "19ebbe40",
   "metadata": {
    "scrolled": true
   },
   "outputs": [
    {
     "data": {
      "text/plain": [
       "<AxesSubplot:xlabel='Songs'>"
      ]
     },
     "execution_count": 20,
     "metadata": {},
     "output_type": "execute_result"
    },
    {
     "data": {
      "image/png": "[encoded data removed]",
      "text/plain": [
       "<Figure size 864x288 with 1 Axes>"
      ]
     },
     "metadata": {
      "needs_background": "light"
     },
     "output_type": "display_data"
    }
   ],
   "source": [
    "youtube_2017 = youtube[youtube['year']==2017]\n",
    "data = youtube_2017.loc[:, ['tittle','views']].sort_values(by='views')\n",
    "data.set_index('tittle',inplace=True)\n",
    "data.sort_values(by='views',ascending=False).plot(kind='bar',xlabel='Songs', figsize=(12,4), color=sns.color_palette(\"viridis\"))"
   ]
  },
  {
   "cell_type": "markdown",
   "id": "c6975fe7",
   "metadata": {},
   "source": [
    "It seems the extraodinary successes of those MV like \"Despacito\", \"Shape of you\"... brought huge impact on music trend in 2017, which might positively influence audience experience to listen more in that year.\n",
    "\n",
    "Related article\n",
    "\n",
    "https://variety.com/2017/digital/news/youtube-2017-top-trending-videos-music-videos-1202631416/"
   ]
  },
  {
   "cell_type": "code",
   "execution_count": 22,
   "id": "b76d8bc9",
   "metadata": {},
   "outputs": [
    {
     "data": {
      "image/png": "[encoded data removed]",
      "text/plain": [
       "<Figure size 432x288 with 1 Axes>"
      ]
     },
     "metadata": {
      "needs_background": "light"
     },
     "output_type": "display_data"
    }
   ],
   "source": [
    "# Published time in a day\n",
    "youtube['hour'] = pd.to_datetime(youtube['published_hour'], format='%H:%M').dt.hour\n",
    "youtube['hour'].hist(bins=24)\n",
    "plt.show()"
   ]
  },
  {
   "cell_type": "markdown",
   "id": "028871e9",
   "metadata": {},
   "source": [
    "Interesting that beside common hour like 4PM, 10PM when people tend to watch Youtube for break or entertaining, many videos were also released during abnormal hours like 4AM or 7AM when most of people are still in bed. Hypothetically, it might be due to Youtube algorithm at particular time period might impact video impressions to audiences.\n",
    "\n",
    "Read more about related articles\n",
    "\n",
    "https://blog.hubspot.com/marketing/best-time-to-post-youtube\n",
    "\n",
    "https://www.searchenginejournal.com/did-youtube-change-its-algorithm/424581/#close"
   ]
  },
  {
   "cell_type": "markdown",
   "id": "ac43f445",
   "metadata": {},
   "source": [
    "# That's all. Thanks for reading my findings!"
   ]
  },
  {
   "cell_type": "code",
   "execution_count": null,
   "id": "57aa44e9",
   "metadata": {},
   "outputs": [],
   "source": []
  }
 ],
 "metadata": {
  "kernelspec": {
   "display_name": "Python 3 (ipykernel)",
   "language": "python",
   "name": "python3"
  },
  "language_info": {
   "codemirror_mode": {
    "name": "ipython",
    "version": 3
   },
   "file_extension": ".py",
   "mimetype": "text/x-python",
   "name": "python",
   "nbconvert_exporter": "python",
   "pygments_lexer": "ipython3",
   "version": "3.9.7"
  }
 },
 "nbformat": 4,
 "nbformat_minor": 5
}
